{
 "cells": [
  {
   "cell_type": "markdown",
   "metadata": {},
   "source": [
    "### Code wrapper for downloading LMP node data from OASIS provided by Ranjit"
   ]
  },
  {
   "cell_type": "code",
   "execution_count": null,
   "metadata": {},
   "outputs": [],
   "source": [
    "# import sys\n",
    "# !{sys.executable} -m pip install pycaiso"
   ]
  },
  {
   "cell_type": "code",
   "execution_count": 1,
   "metadata": {},
   "outputs": [],
   "source": [
    "import requests\n",
    "from pycaiso.oasis import Node\n",
    "from datetime import datetime\n",
    "import pandas as pd\n",
    "from calendar import monthrange\n",
    "import time"
   ]
  },
  {
   "cell_type": "code",
   "execution_count": null,
   "metadata": {},
   "outputs": [],
   "source": [
    "lmp_node = \"BKRSFLD_2_N001\"\n",
    "node = Node(lmp_node)\n",
    "yr = 2020"
   ]
  },
  {
   "cell_type": "code",
   "execution_count": 3,
   "metadata": {},
   "outputs": [
    {
     "name": "stdout",
     "output_type": "stream",
     "text": [
      "        INTERVALSTARTTIME_GMT        INTERVALENDTIME_GMT     OPR_DT  OPR_HR  \\\n",
      "0   2020-01-31T08:00:00-00:00  2020-01-31T09:00:00-00:00 2020-01-31       1   \n",
      "1   2020-01-31T08:00:00-00:00  2020-01-31T09:00:00-00:00 2020-01-31       1   \n",
      "2   2020-01-31T08:00:00-00:00  2020-01-31T09:00:00-00:00 2020-01-31       1   \n",
      "3   2020-01-31T08:00:00-00:00  2020-01-31T09:00:00-00:00 2020-01-31       1   \n",
      "4   2020-01-31T09:00:00-00:00  2020-01-31T10:00:00-00:00 2020-01-31       2   \n",
      "..                        ...                        ...        ...     ...   \n",
      "91  2020-02-01T06:00:00-00:00  2020-02-01T07:00:00-00:00 2020-01-31      23   \n",
      "92  2020-02-01T07:00:00-00:00  2020-02-01T08:00:00-00:00 2020-01-31      24   \n",
      "93  2020-02-01T07:00:00-00:00  2020-02-01T08:00:00-00:00 2020-01-31      24   \n",
      "94  2020-02-01T07:00:00-00:00  2020-02-01T08:00:00-00:00 2020-01-31      24   \n",
      "95  2020-02-01T07:00:00-00:00  2020-02-01T08:00:00-00:00 2020-01-31      24   \n",
      "\n",
      "    OPR_INTERVAL     NODE_ID_XML         NODE_ID            NODE  \\\n",
      "0              0  BKRSFLD_2_N001  BKRSFLD_2_N001  BKRSFLD_2_N001   \n",
      "1              0  BKRSFLD_2_N001  BKRSFLD_2_N001  BKRSFLD_2_N001   \n",
      "2              0  BKRSFLD_2_N001  BKRSFLD_2_N001  BKRSFLD_2_N001   \n",
      "3              0  BKRSFLD_2_N001  BKRSFLD_2_N001  BKRSFLD_2_N001   \n",
      "4              0  BKRSFLD_2_N001  BKRSFLD_2_N001  BKRSFLD_2_N001   \n",
      "..           ...             ...             ...             ...   \n",
      "91             0  BKRSFLD_2_N001  BKRSFLD_2_N001  BKRSFLD_2_N001   \n",
      "92             0  BKRSFLD_2_N001  BKRSFLD_2_N001  BKRSFLD_2_N001   \n",
      "93             0  BKRSFLD_2_N001  BKRSFLD_2_N001  BKRSFLD_2_N001   \n",
      "94             0  BKRSFLD_2_N001  BKRSFLD_2_N001  BKRSFLD_2_N001   \n",
      "95             0  BKRSFLD_2_N001  BKRSFLD_2_N001  BKRSFLD_2_N001   \n",
      "\n",
      "   MARKET_RUN_ID LMP_TYPE XML_DATA_ITEM   PNODE_RESMRID GRP_TYPE  POS  \\\n",
      "0            DAM      LMP       LMP_PRC  BKRSFLD_2_N001      ALL    1   \n",
      "1            DAM      MCC  LMP_CONG_PRC  BKRSFLD_2_N001      ALL    1   \n",
      "2            DAM      MCE   LMP_ENE_PRC  BKRSFLD_2_N001      ALL    1   \n",
      "3            DAM      MCL  LMP_LOSS_PRC  BKRSFLD_2_N001      ALL    1   \n",
      "4            DAM      LMP       LMP_PRC  BKRSFLD_2_N001      ALL    1   \n",
      "..           ...      ...           ...             ...      ...  ...   \n",
      "91           DAM      MCL  LMP_LOSS_PRC  BKRSFLD_2_N001      ALL    1   \n",
      "92           DAM      LMP       LMP_PRC  BKRSFLD_2_N001      ALL    1   \n",
      "93           DAM      MCC  LMP_CONG_PRC  BKRSFLD_2_N001      ALL    1   \n",
      "94           DAM      MCE   LMP_ENE_PRC  BKRSFLD_2_N001      ALL    1   \n",
      "95           DAM      MCL  LMP_LOSS_PRC  BKRSFLD_2_N001      ALL    1   \n",
      "\n",
      "          MW  GROUP  \n",
      "0   26.26252      1  \n",
      "1    0.00000      2  \n",
      "2   26.65975      3  \n",
      "3   -0.39723      4  \n",
      "4   24.28134      1  \n",
      "..       ...    ...  \n",
      "91  -0.44717      4  \n",
      "92  26.72436      1  \n",
      "93   0.00000      2  \n",
      "94  27.11206      3  \n",
      "95  -0.38770      4  \n",
      "\n",
      "[96 rows x 16 columns]\n"
     ]
    }
   ],
   "source": [
    "node_lmps = node.get_lmps(datetime(2020, 1, 31))\n",
    "print(node_lmps.head(96))"
   ]
  },
  {
   "cell_type": "code",
   "execution_count": 8,
   "metadata": {},
   "outputs": [
    {
     "name": "stdout",
     "output_type": "stream",
     "text": [
      "1\n",
      "31\n",
      "       INTERVALSTARTTIME_GMT        INTERVALENDTIME_GMT     OPR_DT  OPR_HR  \\\n",
      "0  2020-01-01T08:00:00-00:00  2020-01-01T09:00:00-00:00 2020-01-01       1   \n",
      "1  2020-01-01T08:00:00-00:00  2020-01-01T09:00:00-00:00 2020-01-01       1   \n",
      "2  2020-01-01T08:00:00-00:00  2020-01-01T09:00:00-00:00 2020-01-01       1   \n",
      "3  2020-01-01T08:00:00-00:00  2020-01-01T09:00:00-00:00 2020-01-01       1   \n",
      "4  2020-01-01T09:00:00-00:00  2020-01-01T10:00:00-00:00 2020-01-01       2   \n",
      "\n",
      "   OPR_INTERVAL     NODE_ID_XML         NODE_ID            NODE MARKET_RUN_ID  \\\n",
      "0             0  BKRSFLD_2_N001  BKRSFLD_2_N001  BKRSFLD_2_N001           DAM   \n",
      "1             0  BKRSFLD_2_N001  BKRSFLD_2_N001  BKRSFLD_2_N001           DAM   \n",
      "2             0  BKRSFLD_2_N001  BKRSFLD_2_N001  BKRSFLD_2_N001           DAM   \n",
      "3             0  BKRSFLD_2_N001  BKRSFLD_2_N001  BKRSFLD_2_N001           DAM   \n",
      "4             0  BKRSFLD_2_N001  BKRSFLD_2_N001  BKRSFLD_2_N001           DAM   \n",
      "\n",
      "  LMP_TYPE XML_DATA_ITEM   PNODE_RESMRID GRP_TYPE  POS        MW  GROUP  \n",
      "0      LMP       LMP_PRC  BKRSFLD_2_N001      ALL    1  33.19698      1  \n",
      "1      MCC  LMP_CONG_PRC  BKRSFLD_2_N001      ALL    1   0.00000      2  \n",
      "2      MCE   LMP_ENE_PRC  BKRSFLD_2_N001      ALL    1  33.50861      3  \n",
      "3      MCL  LMP_LOSS_PRC  BKRSFLD_2_N001      ALL    1  -0.31163      4  \n",
      "4      LMP       LMP_PRC  BKRSFLD_2_N001      ALL    1  30.86008      1  \n",
      "2\n",
      "29\n",
      "       INTERVALSTARTTIME_GMT        INTERVALENDTIME_GMT     OPR_DT  OPR_HR  \\\n",
      "0  2020-01-01T08:00:00-00:00  2020-01-01T09:00:00-00:00 2020-01-01       1   \n",
      "1  2020-01-01T08:00:00-00:00  2020-01-01T09:00:00-00:00 2020-01-01       1   \n",
      "2  2020-01-01T08:00:00-00:00  2020-01-01T09:00:00-00:00 2020-01-01       1   \n",
      "3  2020-01-01T08:00:00-00:00  2020-01-01T09:00:00-00:00 2020-01-01       1   \n",
      "4  2020-01-01T09:00:00-00:00  2020-01-01T10:00:00-00:00 2020-01-01       2   \n",
      "\n",
      "   OPR_INTERVAL     NODE_ID_XML         NODE_ID            NODE MARKET_RUN_ID  \\\n",
      "0             0  BKRSFLD_2_N001  BKRSFLD_2_N001  BKRSFLD_2_N001           DAM   \n",
      "1             0  BKRSFLD_2_N001  BKRSFLD_2_N001  BKRSFLD_2_N001           DAM   \n",
      "2             0  BKRSFLD_2_N001  BKRSFLD_2_N001  BKRSFLD_2_N001           DAM   \n",
      "3             0  BKRSFLD_2_N001  BKRSFLD_2_N001  BKRSFLD_2_N001           DAM   \n",
      "4             0  BKRSFLD_2_N001  BKRSFLD_2_N001  BKRSFLD_2_N001           DAM   \n",
      "\n",
      "  LMP_TYPE XML_DATA_ITEM   PNODE_RESMRID GRP_TYPE  POS        MW  GROUP  \n",
      "0      LMP       LMP_PRC  BKRSFLD_2_N001      ALL    1  33.19698      1  \n",
      "1      MCC  LMP_CONG_PRC  BKRSFLD_2_N001      ALL    1   0.00000      2  \n",
      "2      MCE   LMP_ENE_PRC  BKRSFLD_2_N001      ALL    1  33.50861      3  \n",
      "3      MCL  LMP_LOSS_PRC  BKRSFLD_2_N001      ALL    1  -0.31163      4  \n",
      "4      LMP       LMP_PRC  BKRSFLD_2_N001      ALL    1  30.86008      1  \n"
     ]
    }
   ],
   "source": [
    "node_lmps = pd.DataFrame()\n",
    "for m in range(1,3):\n",
    "    print(m)\n",
    "    num_days = monthrange(yr, m)[1]\n",
    "    print(num_days)\n",
    "    node_lmps_month = node.get_month_lmps(yr, m)\n",
    "#     node_lmps_month = node.get_lmps(datetime(yr, m, num_days))\n",
    "    node_lmps = node_lmps.append(node_lmps_month, ignore_index=True)\n",
    "    time.sleep(5)\n",
    "#     node_lmps_month_last_day = node.get_lmps(datetime(yr, m, num_days))\n",
    "#     node_lmps = node_lmps.append(node_lmps_month_last_day, ignore_index=True)\n",
    "#     time.sleep(5)\n",
    "    print(node_lmps.head())"
   ]
  },
  {
   "cell_type": "code",
   "execution_count": null,
   "metadata": {},
   "outputs": [],
   "source": []
  },
  {
   "cell_type": "code",
   "execution_count": 59,
   "metadata": {},
   "outputs": [],
   "source": [
    "file_output = \"lmps_\" + lmp_node + \".csv\"\n",
    "node_lmps.to_csv(file_output)"
   ]
  },
  {
   "cell_type": "code",
   "execution_count": 66,
   "metadata": {},
   "outputs": [],
   "source": [
    "file_output = \"lmps_\" + lmp_node + \".csv\"\n",
    "node_lmps = pd.read_csv(file_output)\n",
    "node_lmps_selected = node_lmps.loc[node_lmps[\"XML_DATA_ITEM\"]==\"LMP_PRC\"]\n",
    "#remove leap year day\n",
    "node_lmps_selected = node_lmps_selected.loc[node_lmps_selected[\"OPR_DT\"]!=\"2/29/20\"]\n",
    "node_lmps_selected.to_csv(\"lmps_\" + lmp_node + \"_selected.csv\")"
   ]
  },
  {
   "cell_type": "code",
   "execution_count": null,
   "metadata": {},
   "outputs": [],
   "source": [
    "### DONT USE\n",
    "\n",
    "# response = requests.get(\"http://oasis.caiso.com/oasisapi/SingleZip?queryname=AS_REQ&startdatetime=20200101T07:00-0000&enddatetime=20200131T07:00-0000&market_run_id=DAM& version=v1&as_type=ALL&version=1&as_region=ALL&resultformat=6\")"
   ]
  }
 ],
 "metadata": {
  "interpreter": {
   "hash": "ef5f30fc0feed33a4a5e4e94db3214c1a28b8c0b4895c754c28d296bf17ee6d5"
  },
  "kernelspec": {
   "display_name": "Python 3.8.10 ('scoot')",
   "language": "python",
   "name": "python3"
  },
  "language_info": {
   "codemirror_mode": {
    "name": "ipython",
    "version": 3
   },
   "file_extension": ".py",
   "mimetype": "text/x-python",
   "name": "python",
   "nbconvert_exporter": "python",
   "pygments_lexer": "ipython3",
   "version": "3.8.10"
  }
 },
 "nbformat": 4,
 "nbformat_minor": 4
}
